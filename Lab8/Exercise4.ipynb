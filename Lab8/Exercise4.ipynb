{
  "nbformat": 4,
  "nbformat_minor": 0,
  "metadata": {
    "colab": {
      "name": "Exercise4",
      "provenance": [],
      "authorship_tag": "ABX9TyPUOArXAx2EwbfzF4sQRhtz",
      "include_colab_link": true
    },
    "kernelspec": {
      "name": "python3",
      "display_name": "Python 3"
    },
    "accelerator": "GPU"
  },
  "cells": [
    {
      "cell_type": "markdown",
      "metadata": {
        "id": "view-in-github",
        "colab_type": "text"
      },
      "source": [
        "<a href=\"https://colab.research.google.com/github/sherylsqin/CE888/blob/master/Lab8/Exercise4.ipynb\" target=\"_parent\"><img src=\"https://colab.research.google.com/assets/colab-badge.svg\" alt=\"Open In Colab\"/></a>"
      ]
    },
    {
      "cell_type": "code",
      "metadata": {
        "id": "S9V9tF_RXiSr",
        "colab_type": "code",
        "outputId": "13bd1735-15b8-4eea-837b-d4f2948b3dde",
        "colab": {
          "base_uri": "https://localhost:8080/",
          "height": 1000
        }
      },
      "source": [
        "import os\n",
        "os.environ['KAGGLE_USERNAME'] = \"sherylqin\" # username from the json file\n",
        "os.environ['KAGGLE_KEY'] = \"59b171722f541ec410d795bae7a98ab3\" # key from the json file\n",
        "!kaggle competitions download -c whale-categorization-playground"
      ],
      "execution_count": 0,
      "outputs": [
        {
          "output_type": "stream",
          "text": [
            "Warning: Looks like you're using an outdated API Version, please consider updating (server 1.5.6 / client 1.5.4)\n",
            "Downloading 0014cfdf.jpg to /content\n",
            "  0% 0.00/15.1k [00:00<?, ?B/s]\n",
            "100% 15.1k/15.1k [00:00<00:00, 14.5MB/s]\n",
            "Downloading 004c5fb9.jpg to /content\n",
            "  0% 0.00/30.5k [00:00<?, ?B/s]\n",
            "100% 30.5k/30.5k [00:00<00:00, 62.3MB/s]\n",
            "Downloading 001296d5.jpg to /content\n",
            "  0% 0.00/4.87k [00:00<?, ?B/s]\n",
            "100% 4.87k/4.87k [00:00<00:00, 13.0MB/s]\n",
            "Downloading 0035632e.jpg to /content\n",
            "  0% 0.00/23.3k [00:00<?, ?B/s]\n",
            "100% 23.3k/23.3k [00:00<00:00, 20.2MB/s]\n",
            "Downloading 0026a8ab.jpg to /content\n",
            "  0% 0.00/13.1k [00:00<?, ?B/s]\n",
            "100% 13.1k/13.1k [00:00<00:00, 11.7MB/s]\n",
            "Downloading 005c57e7.jpg to /content\n",
            "  0% 0.00/26.7k [00:00<?, ?B/s]\n",
            "100% 26.7k/26.7k [00:00<00:00, 23.2MB/s]\n",
            "Downloading 004a97f3.jpg to /content\n",
            "  0% 0.00/15.0k [00:00<?, ?B/s]\n",
            "100% 15.0k/15.0k [00:00<00:00, 14.8MB/s]\n",
            "Downloading 00467ae9.jpg to /content\n",
            "  0% 0.00/41.7k [00:00<?, ?B/s]\n",
            "100% 41.7k/41.7k [00:00<00:00, 36.1MB/s]\n",
            "Downloading 007c3603.jpg to /content\n",
            "  0% 0.00/13.6k [00:00<?, ?B/s]\n",
            "100% 13.6k/13.6k [00:00<00:00, 37.9MB/s]\n",
            "Downloading 0031c258.jpg to /content\n",
            "  0% 0.00/33.0k [00:00<?, ?B/s]\n",
            "100% 33.0k/33.0k [00:00<00:00, 29.7MB/s]\n",
            "Downloading 0042dcc4.jpg to /content\n",
            "  0% 0.00/16.9k [00:00<?, ?B/s]\n",
            "100% 16.9k/16.9k [00:00<00:00, 17.5MB/s]\n",
            "Downloading 000466c4.jpg to /content\n",
            "  0% 0.00/24.7k [00:00<?, ?B/s]\n",
            "100% 24.7k/24.7k [00:00<00:00, 25.7MB/s]\n",
            "Downloading 00389cd7.jpg to /content\n",
            "  0% 0.00/50.5k [00:00<?, ?B/s]\n",
            "100% 50.5k/50.5k [00:00<00:00, 44.1MB/s]\n",
            "Downloading 0042ea34.jpg to /content\n",
            "  0% 0.00/14.2k [00:00<?, ?B/s]\n",
            "100% 14.2k/14.2k [00:00<00:00, 14.2MB/s]\n",
            "Downloading 0025e8c2.jpg to /content\n",
            "  0% 0.00/57.2k [00:00<?, ?B/s]\n",
            "100% 57.2k/57.2k [00:00<00:00, 50.4MB/s]\n",
            "Downloading 006d0aaf.jpg to /content\n",
            "  0% 0.00/55.6k [00:00<?, ?B/s]\n",
            "100% 55.6k/55.6k [00:00<00:00, 48.8MB/s]\n",
            "Downloading 0037e7d3.jpg to /content\n",
            "  0% 0.00/72.4k [00:00<?, ?B/s]\n",
            "100% 72.4k/72.4k [00:00<00:00, 66.4MB/s]\n",
            "Downloading 00087b01.jpg to /content\n",
            "  0% 0.00/19.9k [00:00<?, ?B/s]\n",
            "100% 19.9k/19.9k [00:00<00:00, 40.6MB/s]\n",
            "Downloading 00022e1a.jpg to /content\n",
            "  0% 0.00/29.2k [00:00<?, ?B/s]\n",
            "100% 29.2k/29.2k [00:00<00:00, 49.7MB/s]\n",
            "Downloading 0078af23.jpg to /content\n",
            "  0% 0.00/42.3k [00:00<?, ?B/s]\n",
            "100% 42.3k/42.3k [00:00<00:00, 45.8MB/s]\n",
            "Downloading 00119c3f.jpg to /content\n",
            "  0% 0.00/39.0k [00:00<?, ?B/s]\n",
            "100% 39.0k/39.0k [00:00<00:00, 39.8MB/s]\n",
            "Downloading 000bc353.jpg to /content\n",
            "  0% 0.00/41.6k [00:00<?, ?B/s]\n",
            "100% 41.6k/41.6k [00:00<00:00, 42.4MB/s]\n",
            "Downloading 0018c4ba.jpg to /content\n",
            "  0% 0.00/21.2k [00:00<?, ?B/s]\n",
            "100% 21.2k/21.2k [00:00<00:00, 21.5MB/s]\n",
            "Downloading 002d8d81.jpg to /content\n",
            "  0% 0.00/26.8k [00:00<?, ?B/s]\n",
            "100% 26.8k/26.8k [00:00<00:00, 23.7MB/s]\n",
            "Downloading 003e42df.jpg to /content\n",
            "  0% 0.00/55.4k [00:00<?, ?B/s]\n",
            "100% 55.4k/55.4k [00:00<00:00, 55.4MB/s]\n",
            "Downloading 001bf484.jpg to /content\n",
            "  0% 0.00/25.7k [00:00<?, ?B/s]\n",
            "100% 25.7k/25.7k [00:00<00:00, 24.8MB/s]\n",
            "Downloading 005d5f4f.jpg to /content\n",
            "  0% 0.00/31.5k [00:00<?, ?B/s]\n",
            "100% 31.5k/31.5k [00:00<00:00, 32.6MB/s]\n",
            "Downloading 001259cc.jpg to /content\n",
            "  0% 0.00/51.2k [00:00<?, ?B/s]\n",
            "100% 51.2k/51.2k [00:00<00:00, 54.4MB/s]\n",
            "Downloading 00029b3a.jpg to /content\n",
            "  0% 0.00/41.8k [00:00<?, ?B/s]\n",
            "100% 41.8k/41.8k [00:00<00:00, 43.5MB/s]\n",
            "Downloading 003ac3da.jpg to /content\n",
            "  0% 0.00/22.5k [00:00<?, ?B/s]\n",
            "100% 22.5k/22.5k [00:00<00:00, 20.2MB/s]\n",
            "Downloading 0056000b.jpg to /content\n",
            "  0% 0.00/26.2k [00:00<?, ?B/s]\n",
            "100% 26.2k/26.2k [00:00<00:00, 23.2MB/s]\n",
            "Downloading 00367faf.jpg to /content\n",
            "  0% 0.00/19.6k [00:00<?, ?B/s]\n",
            "100% 19.6k/19.6k [00:00<00:00, 16.8MB/s]\n",
            "Downloading 0010a672.jpg to /content\n",
            "  0% 0.00/39.1k [00:00<?, ?B/s]\n",
            "100% 39.1k/39.1k [00:00<00:00, 34.8MB/s]\n",
            "Downloading 004cd940.jpg to /content\n",
            "  0% 0.00/32.2k [00:00<?, ?B/s]\n",
            "100% 32.2k/32.2k [00:00<00:00, 33.0MB/s]\n",
            "Downloading 003abee6.jpg to /content\n",
            "  0% 0.00/21.7k [00:00<?, ?B/s]\n",
            "100% 21.7k/21.7k [00:00<00:00, 20.4MB/s]\n",
            "Downloading 0003c693.jpg to /content\n",
            "  0% 0.00/23.3k [00:00<?, ?B/s]\n",
            "100% 23.3k/23.3k [00:00<00:00, 24.0MB/s]\n",
            "Downloading 0015f9b4.jpg to /content\n",
            "  0% 0.00/37.1k [00:00<?, ?B/s]\n",
            "100% 37.1k/37.1k [00:00<00:00, 37.8MB/s]\n",
            "Downloading 0051ef38.jpg to /content\n",
            "  0% 0.00/31.4k [00:00<?, ?B/s]\n",
            "100% 31.4k/31.4k [00:00<00:00, 32.3MB/s]\n",
            "Downloading 003be4bf.jpg to /content\n",
            "  0% 0.00/39.5k [00:00<?, ?B/s]\n",
            "100% 39.5k/39.5k [00:00<00:00, 40.3MB/s]\n",
            "Downloading 00342aa2.jpg to /content\n",
            "  0% 0.00/63.9k [00:00<?, ?B/s]\n",
            "100% 63.9k/63.9k [00:00<00:00, 56.0MB/s]\n",
            "Downloading train.csv to /content\n",
            "  0% 0.00/221k [00:00<?, ?B/s]\n",
            "100% 221k/221k [00:00<00:00, 69.1MB/s]\n",
            "Downloading sample_submission.csv to /content\n",
            "  0% 0.00/960k [00:00<?, ?B/s]\n",
            "100% 960k/960k [00:00<00:00, 60.7MB/s]\n"
          ],
          "name": "stdout"
        }
      ]
    },
    {
      "cell_type": "code",
      "metadata": {
        "id": "dU9ickVIY4wi",
        "colab_type": "code",
        "colab": {}
      },
      "source": [
        "data_dir_list = os.listdir('')\n",
        "print(data_dir_list)"
      ],
      "execution_count": 0,
      "outputs": []
    },
    {
      "cell_type": "code",
      "metadata": {
        "id": "lwRGb9hOiQER",
        "colab_type": "code",
        "colab": {}
      },
      "source": [
        "!rm -r /content"
      ],
      "execution_count": 0,
      "outputs": []
    },
    {
      "cell_type": "code",
      "metadata": {
        "id": "TCVusOEBik-Q",
        "colab_type": "code",
        "outputId": "2c9a43ee-b0ce-4e36-90b5-6d7ef4260004",
        "colab": {
          "base_uri": "https://localhost:8080/",
          "height": 51
        }
      },
      "source": [
        ""
      ],
      "execution_count": 0,
      "outputs": [
        {
          "output_type": "stream",
          "text": [
            "shell-init: error retrieving current directory: getcwd: cannot access parent directories: No such file or directory\n",
            "chdir: error retrieving current directory: getcwd: cannot access parent directories: No such file or directory\n"
          ],
          "name": "stdout"
        }
      ]
    },
    {
      "cell_type": "code",
      "metadata": {
        "id": "Qi8hZA2Uhmgj",
        "colab_type": "code",
        "outputId": "6333c9d4-8b94-40ae-fccb-1fe4357b5c81",
        "colab": {
          "base_uri": "https://localhost:8080/",
          "height": 51
        }
      },
      "source": [
        "!unzip train.zip -d /content"
      ],
      "execution_count": 0,
      "outputs": [
        {
          "output_type": "stream",
          "text": [
            "shell-init: error retrieving current directory: getcwd: cannot access parent directories: No such file or directory\n",
            "unzip:  cannot find or open train.zip, train.zip.zip or train.zip.ZIP.\n"
          ],
          "name": "stdout"
        }
      ]
    },
    {
      "cell_type": "code",
      "metadata": {
        "id": "CfA478-3hanT",
        "colab_type": "code",
        "outputId": "b680b20d-edcd-498b-b12c-dc8a54b7bfbf",
        "colab": {
          "base_uri": "https://localhost:8080/",
          "height": 221
        }
      },
      "source": [
        "!ls"
      ],
      "execution_count": 0,
      "outputs": [
        {
          "output_type": "stream",
          "text": [
            "0000e88ab.jpg  0019c34f4.jpg  002f99f01.jpg  00512687e.jpg\n",
            "0001f9222.jpg  001a4d292.jpg  002fd89d4.jpg  006183fb4.jpg\n",
            "00028a005.jpg  001c1ac5f.jpg  00313e2d2.jpg  0061febfc.jpg\n",
            "00029d126.jpg  001cae55b.jpg  00355ff28.jpg  0065d4964.jpg\n",
            "00050a15a.jpg  001d7450c.jpg  00357e37a.jpg  cats_and_dogs_small\n",
            "0005c1ef8.jpg  00200e115.jpg  003795857.jpg  sample_data\n",
            "0006e997e.jpg  00245a598.jpg  00379666f.jpg  sample_submission.csv\n",
            "000a6daec.jpg  00247bc36.jpg  0041880bf.jpg  test.zip\n",
            "000dcf7d8.jpg  0027089a4.jpg  0041a9867.jpg  train\n",
            "000e7c7df.jpg  002b4615d.jpg  004344e9f.jpg  train.csv\n",
            "000f0f2bf.jpg  002de4d94.jpg  0048970f9.jpg  train.zip\n",
            "0016b897a.jpg  002f52f0c.jpg  004fa8ff7.jpg\n"
          ],
          "name": "stdout"
        }
      ]
    },
    {
      "cell_type": "code",
      "metadata": {
        "id": "zt3Kn1wUdfcV",
        "colab_type": "code",
        "outputId": "e31e8a00-d8fd-495c-de28-27e28af9e596",
        "colab": {
          "base_uri": "https://localhost:8080/",
          "height": 34
        }
      },
      "source": [
        "data_dir_list = os.listdir('/content/train')\n",
        "#print(data_dir_list)\n",
        "\n",
        "path, dirs, files = next(os.walk(\"/content/train\"))\n",
        "file_count = len(files)\n",
        "print(file_count)"
      ],
      "execution_count": 0,
      "outputs": [
        {
          "output_type": "stream",
          "text": [
            "17500\n"
          ],
          "name": "stdout"
        }
      ]
    },
    {
      "cell_type": "code",
      "metadata": {
        "id": "3giAUBvgdkPM",
        "colab_type": "code",
        "outputId": "11beb21f-ac8d-4d67-9232-e1f07960484f",
        "colab": {
          "base_uri": "https://localhost:8080/",
          "height": 197
        }
      },
      "source": [
        "original_dataset_dir = '/content/train'\n",
        "base_dir = '/content/sample_data'\n",
        "os.mkdir(base_dir)"
      ],
      "execution_count": 0,
      "outputs": [
        {
          "output_type": "error",
          "ename": "FileExistsError",
          "evalue": "ignored",
          "traceback": [
            "\u001b[0;31m---------------------------------------------------------------------------\u001b[0m",
            "\u001b[0;31mFileExistsError\u001b[0m                           Traceback (most recent call last)",
            "\u001b[0;32m<ipython-input-26-4f08eeeb5fdc>\u001b[0m in \u001b[0;36m<module>\u001b[0;34m()\u001b[0m\n\u001b[1;32m      1\u001b[0m \u001b[0moriginal_dataset_dir\u001b[0m \u001b[0;34m=\u001b[0m \u001b[0;34m'/content/train'\u001b[0m\u001b[0;34m\u001b[0m\u001b[0;34m\u001b[0m\u001b[0m\n\u001b[1;32m      2\u001b[0m \u001b[0mbase_dir\u001b[0m \u001b[0;34m=\u001b[0m \u001b[0;34m'/content/sample_data'\u001b[0m\u001b[0;34m\u001b[0m\u001b[0;34m\u001b[0m\u001b[0m\n\u001b[0;32m----> 3\u001b[0;31m \u001b[0mos\u001b[0m\u001b[0;34m.\u001b[0m\u001b[0mmkdir\u001b[0m\u001b[0;34m(\u001b[0m\u001b[0mbase_dir\u001b[0m\u001b[0;34m)\u001b[0m\u001b[0;34m\u001b[0m\u001b[0;34m\u001b[0m\u001b[0m\n\u001b[0m",
            "\u001b[0;31mFileExistsError\u001b[0m: [Errno 17] File exists: '/content/sample_data'"
          ]
        }
      ]
    }
  ]
}