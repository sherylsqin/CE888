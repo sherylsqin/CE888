{
  "nbformat": 4,
  "nbformat_minor": 0,
  "metadata": {
    "colab": {
      "name": "Exercise1",
      "provenance": [],
      "authorship_tag": "ABX9TyO7N8w80U8sjH9u2AL0rYnJ",
      "include_colab_link": true
    },
    "kernelspec": {
      "name": "python3",
      "display_name": "Python 3"
    }
  },
  "cells": [
    {
      "cell_type": "markdown",
      "metadata": {
        "id": "view-in-github",
        "colab_type": "text"
      },
      "source": [
        "<a href=\"https://colab.research.google.com/github/sherylsqin/CE888/blob/master/Lab7/Exercise1.ipynb\" target=\"_parent\"><img src=\"https://colab.research.google.com/assets/colab-badge.svg\" alt=\"Open In Colab\"/></a>"
      ]
    },
    {
      "cell_type": "code",
      "metadata": {
        "id": "V9qECrs6zGA4",
        "colab_type": "code",
        "colab": {}
      },
      "source": [
        "import tensorflow.compat.v1 as tf\n",
        "tf.disable_v2_behavior()\n",
        "from keras import layers\n",
        "from keras import models"
      ],
      "execution_count": 0,
      "outputs": []
    },
    {
      "cell_type": "code",
      "metadata": {
        "id": "wJOdEQwKzKPY",
        "colab_type": "code",
        "outputId": "d73dc8e8-b6f3-47d1-be26-f0f72cf9523a",
        "colab": {
          "base_uri": "https://localhost:8080/",
          "height": 323
        }
      },
      "source": [
        "model = models.Sequential()\n",
        "model.add(layers.Conv2D(32, (3, 3), activation='relu', input_shape=(28, 28, 1)))\n",
        "model.add(layers.MaxPooling2D((2, 2)))\n",
        "model.add(layers.Conv2D(64, (3, 3), activation='relu'))\n",
        "model.add(layers.MaxPooling2D((2, 2)))\n",
        "model.add(layers.Conv2D(64, (3, 3), activation='relu'))\n",
        "model.summary()"
      ],
      "execution_count": 0,
      "outputs": [
        {
          "output_type": "stream",
          "text": [
            "Model: \"sequential_2\"\n",
            "_________________________________________________________________\n",
            "Layer (type)                 Output Shape              Param #   \n",
            "=================================================================\n",
            "conv2d_4 (Conv2D)            (None, 26, 26, 32)        320       \n",
            "_________________________________________________________________\n",
            "max_pooling2d_3 (MaxPooling2 (None, 13, 13, 32)        0         \n",
            "_________________________________________________________________\n",
            "conv2d_5 (Conv2D)            (None, 11, 11, 64)        18496     \n",
            "_________________________________________________________________\n",
            "max_pooling2d_4 (MaxPooling2 (None, 5, 5, 64)          0         \n",
            "_________________________________________________________________\n",
            "conv2d_6 (Conv2D)            (None, 3, 3, 64)          36928     \n",
            "=================================================================\n",
            "Total params: 55,744\n",
            "Trainable params: 55,744\n",
            "Non-trainable params: 0\n",
            "_________________________________________________________________\n"
          ],
          "name": "stdout"
        }
      ]
    },
    {
      "cell_type": "code",
      "metadata": {
        "id": "X8grJxwdzo5o",
        "colab_type": "code",
        "outputId": "7ec0ba8e-0a19-4108-df9a-d4e34b6aee19",
        "colab": {
          "base_uri": "https://localhost:8080/",
          "height": 425
        }
      },
      "source": [
        "model.add(layers.Flatten())\n",
        "model.add(layers.Dense(64, activation='relu'))\n",
        "model.add(layers.Dense(10, activation='softmax'))\n",
        "model.summary()"
      ],
      "execution_count": 0,
      "outputs": [
        {
          "output_type": "stream",
          "text": [
            "Model: \"sequential_2\"\n",
            "_________________________________________________________________\n",
            "Layer (type)                 Output Shape              Param #   \n",
            "=================================================================\n",
            "conv2d_4 (Conv2D)            (None, 26, 26, 32)        320       \n",
            "_________________________________________________________________\n",
            "max_pooling2d_3 (MaxPooling2 (None, 13, 13, 32)        0         \n",
            "_________________________________________________________________\n",
            "conv2d_5 (Conv2D)            (None, 11, 11, 64)        18496     \n",
            "_________________________________________________________________\n",
            "max_pooling2d_4 (MaxPooling2 (None, 5, 5, 64)          0         \n",
            "_________________________________________________________________\n",
            "conv2d_6 (Conv2D)            (None, 3, 3, 64)          36928     \n",
            "_________________________________________________________________\n",
            "flatten_1 (Flatten)          (None, 576)               0         \n",
            "_________________________________________________________________\n",
            "dense_1 (Dense)              (None, 64)                36928     \n",
            "_________________________________________________________________\n",
            "dense_2 (Dense)              (None, 10)                650       \n",
            "=================================================================\n",
            "Total params: 93,322\n",
            "Trainable params: 93,322\n",
            "Non-trainable params: 0\n",
            "_________________________________________________________________\n"
          ],
          "name": "stdout"
        }
      ]
    },
    {
      "cell_type": "code",
      "metadata": {
        "id": "I3a0GRQXzsio",
        "colab_type": "code",
        "colab": {}
      },
      "source": [
        "from keras.datasets import mnist\n",
        "from keras.utils import to_categorical"
      ],
      "execution_count": 0,
      "outputs": []
    },
    {
      "cell_type": "code",
      "metadata": {
        "id": "mmWjJ9VWzykx",
        "colab_type": "code",
        "outputId": "574e698e-bc48-428a-85cb-a24d8489c892",
        "colab": {
          "base_uri": "https://localhost:8080/",
          "height": 51
        }
      },
      "source": [
        "(train_images, train_labels), (test_images, test_labels) = mnist.load_data()\n",
        "train_images = train_images.reshape((60000, 28, 28, 1))\n",
        "train_images = train_images.astype('float32') / 255\n",
        "test_images = test_images.reshape((10000, 28, 28, 1))\n",
        "test_images = test_images.astype('float32') / 255\n",
        "train_labels = to_categorical(train_labels)\n",
        "test_labels = to_categorical(test_labels)"
      ],
      "execution_count": 0,
      "outputs": [
        {
          "output_type": "stream",
          "text": [
            "Downloading data from https://s3.amazonaws.com/img-datasets/mnist.npz\n",
            "11493376/11490434 [==============================] - 0s 0us/step\n"
          ],
          "name": "stdout"
        }
      ]
    },
    {
      "cell_type": "code",
      "metadata": {
        "id": "wffDD8eIz1Op",
        "colab_type": "code",
        "outputId": "38c4d393-e347-46e1-f807-f4221525e34b",
        "colab": {
          "base_uri": "https://localhost:8080/",
          "height": 204
        }
      },
      "source": [
        "model.compile(optimizer='Adagrad', \n",
        "              loss='categorical_crossentropy',\n",
        "              metrics=['accuracy'])\n",
        "history = model.fit(train_images, train_labels, epochs=5, batch_size=64, validation_split=0.2)"
      ],
      "execution_count": 0,
      "outputs": [
        {
          "output_type": "stream",
          "text": [
            "Train on 48000 samples, validate on 12000 samples\n",
            "Epoch 1/5\n",
            "48000/48000 [==============================] - 45s 935us/step - loss: 0.2181 - acc: 0.9804 - val_loss: 0.0869 - val_acc: 0.9892\n",
            "Epoch 2/5\n",
            "48000/48000 [==============================] - 44s 924us/step - loss: 0.0285 - acc: 0.9947 - val_loss: 0.0852 - val_acc: 0.9889\n",
            "Epoch 3/5\n",
            "48000/48000 [==============================] - 44s 922us/step - loss: 0.0155 - acc: 0.9967 - val_loss: 0.0732 - val_acc: 0.9890\n",
            "Epoch 4/5\n",
            "48000/48000 [==============================] - 45s 938us/step - loss: 0.0112 - acc: 0.9978 - val_loss: 0.0685 - val_acc: 0.9892\n",
            "Epoch 5/5\n",
            "48000/48000 [==============================] - 44s 921us/step - loss: 0.0090 - acc: 0.9983 - val_loss: 0.0672 - val_acc: 0.9894\n"
          ],
          "name": "stdout"
        }
      ]
    },
    {
      "cell_type": "code",
      "metadata": {
        "id": "PGa7FL7G0367",
        "colab_type": "code",
        "outputId": "1c6f9860-1053-426a-ed14-91c834fe3c52",
        "colab": {
          "base_uri": "https://localhost:8080/",
          "height": 51
        }
      },
      "source": [
        "test_loss, test_acc = model.evaluate(test_images, test_labels)\n",
        "test_acc"
      ],
      "execution_count": 0,
      "outputs": [
        {
          "output_type": "stream",
          "text": [
            "10000/10000 [==============================] - 3s 309us/step\n"
          ],
          "name": "stdout"
        },
        {
          "output_type": "execute_result",
          "data": {
            "text/plain": [
              "0.9925"
            ]
          },
          "metadata": {
            "tags": []
          },
          "execution_count": 13
        }
      ]
    },
    {
      "cell_type": "code",
      "metadata": {
        "id": "E72utTyc9jNY",
        "colab_type": "code",
        "outputId": "dc36b44c-c8b6-4f6e-d211-e0aa57c2ca31",
        "colab": {
          "base_uri": "https://localhost:8080/",
          "height": 204
        }
      },
      "source": [
        "model.compile(optimizer='SGD', \n",
        "              loss='categorical_crossentropy',\n",
        "              metrics=['accuracy'])\n",
        "history = model.fit(train_images, train_labels, epochs=5, batch_size=64, validation_split=0.2)"
      ],
      "execution_count": 0,
      "outputs": [
        {
          "output_type": "stream",
          "text": [
            "Train on 48000 samples, validate on 12000 samples\n",
            "Epoch 1/5\n",
            "48000/48000 [==============================] - 46s 959us/step - loss: 0.0075 - acc: 0.9989 - val_loss: 0.0696 - val_acc: 0.9896\n",
            "Epoch 2/5\n",
            "48000/48000 [==============================] - 46s 957us/step - loss: 0.0069 - acc: 0.9990 - val_loss: 0.0656 - val_acc: 0.9898\n",
            "Epoch 3/5\n",
            "48000/48000 [==============================] - 46s 953us/step - loss: 0.0066 - acc: 0.9990 - val_loss: 0.0649 - val_acc: 0.9901\n",
            "Epoch 4/5\n",
            "48000/48000 [==============================] - 45s 934us/step - loss: 0.0063 - acc: 0.9992 - val_loss: 0.0640 - val_acc: 0.9901\n",
            "Epoch 5/5\n",
            "48000/48000 [==============================] - 45s 933us/step - loss: 0.0060 - acc: 0.9993 - val_loss: 0.0647 - val_acc: 0.9903\n"
          ],
          "name": "stdout"
        }
      ]
    },
    {
      "cell_type": "code",
      "metadata": {
        "id": "i9Oggq0T-M3S",
        "colab_type": "code",
        "outputId": "ae3628fe-52d9-4565-e63d-f7dcf643014b",
        "colab": {
          "base_uri": "https://localhost:8080/",
          "height": 51
        }
      },
      "source": [
        "test_loss, test_acc = model.evaluate(test_images, test_labels)\n",
        "test_acc"
      ],
      "execution_count": 0,
      "outputs": [
        {
          "output_type": "stream",
          "text": [
            "10000/10000 [==============================] - 3s 319us/step\n"
          ],
          "name": "stdout"
        },
        {
          "output_type": "execute_result",
          "data": {
            "text/plain": [
              "0.993"
            ]
          },
          "metadata": {
            "tags": []
          },
          "execution_count": 16
        }
      ]
    },
    {
      "cell_type": "code",
      "metadata": {
        "id": "sZ0_k2PS-2Ly",
        "colab_type": "code",
        "outputId": "bb8c3aba-88b1-4968-dfb0-59e5c123539d",
        "colab": {
          "base_uri": "https://localhost:8080/",
          "height": 204
        }
      },
      "source": [
        "model.compile(optimizer='RMSprop', \n",
        "              loss='categorical_crossentropy',\n",
        "              metrics=['accuracy'])\n",
        "history = model.fit(train_images, train_labels, epochs=5, batch_size=64, validation_split=0.2)"
      ],
      "execution_count": 0,
      "outputs": [
        {
          "output_type": "stream",
          "text": [
            "Train on 48000 samples, validate on 12000 samples\n",
            "Epoch 1/5\n",
            "48000/48000 [==============================] - 46s 968us/step - loss: 0.0846 - acc: 0.9882 - val_loss: 0.1225 - val_acc: 0.9874\n",
            "Epoch 2/5\n",
            "48000/48000 [==============================] - 46s 957us/step - loss: 0.1242 - acc: 0.9869 - val_loss: 0.2137 - val_acc: 0.9821\n",
            "Epoch 3/5\n",
            "48000/48000 [==============================] - 46s 955us/step - loss: 0.2017 - acc: 0.9837 - val_loss: 0.5953 - val_acc: 0.9553\n",
            "Epoch 4/5\n",
            "48000/48000 [==============================] - 46s 953us/step - loss: 0.3194 - acc: 0.9774 - val_loss: 0.2729 - val_acc: 0.9815\n",
            "Epoch 5/5\n",
            "48000/48000 [==============================] - 46s 951us/step - loss: 0.3376 - acc: 0.9770 - val_loss: 0.2910 - val_acc: 0.9808\n"
          ],
          "name": "stdout"
        }
      ]
    },
    {
      "cell_type": "code",
      "metadata": {
        "id": "ua0IFGvDBFfS",
        "colab_type": "code",
        "outputId": "c11c517f-f9ec-440d-d50a-ab9938a0657a",
        "colab": {
          "base_uri": "https://localhost:8080/",
          "height": 51
        }
      },
      "source": [
        "test_loss, test_acc = model.evaluate(test_images, test_labels)\n",
        "test_acc"
      ],
      "execution_count": 0,
      "outputs": [
        {
          "output_type": "stream",
          "text": [
            "10000/10000 [==============================] - 3s 313us/step\n"
          ],
          "name": "stdout"
        },
        {
          "output_type": "execute_result",
          "data": {
            "text/plain": [
              "0.9814"
            ]
          },
          "metadata": {
            "tags": []
          },
          "execution_count": 18
        }
      ]
    },
    {
      "cell_type": "code",
      "metadata": {
        "id": "7RVLgdd7BIjy",
        "colab_type": "code",
        "outputId": "1d5fd31d-b556-4a41-bffc-28440f2f718b",
        "colab": {
          "base_uri": "https://localhost:8080/",
          "height": 204
        }
      },
      "source": [
        "model.compile(optimizer='Adadelta', \n",
        "              loss='categorical_crossentropy',\n",
        "              metrics=['accuracy'])\n",
        "history = model.fit(train_images, train_labels, epochs=5, batch_size=64, validation_split=0.2)"
      ],
      "execution_count": 0,
      "outputs": [
        {
          "output_type": "stream",
          "text": [
            "Train on 48000 samples, validate on 12000 samples\n",
            "Epoch 1/5\n",
            "48000/48000 [==============================] - 48s 998us/step - loss: 0.2133 - acc: 0.9855 - val_loss: 0.2149 - val_acc: 0.9857\n",
            "Epoch 2/5\n",
            "48000/48000 [==============================] - 47s 986us/step - loss: 0.1653 - acc: 0.9886 - val_loss: 0.2525 - val_acc: 0.9834\n",
            "Epoch 3/5\n",
            "48000/48000 [==============================] - 47s 979us/step - loss: 0.1769 - acc: 0.9881 - val_loss: 0.2675 - val_acc: 0.9825\n",
            "Epoch 4/5\n",
            "48000/48000 [==============================] - 47s 980us/step - loss: 0.1675 - acc: 0.9885 - val_loss: 0.2200 - val_acc: 0.9852\n",
            "Epoch 5/5\n",
            "48000/48000 [==============================] - 47s 975us/step - loss: 0.1495 - acc: 0.9896 - val_loss: 0.2194 - val_acc: 0.9854\n"
          ],
          "name": "stdout"
        }
      ]
    },
    {
      "cell_type": "code",
      "metadata": {
        "id": "ZdgtqOz909XE",
        "colab_type": "code",
        "outputId": "5dbbf809-4a13-4ed6-eb54-d4ee62db581a",
        "colab": {
          "base_uri": "https://localhost:8080/",
          "height": 545
        }
      },
      "source": [
        "import matplotlib.pyplot as plt\n",
        "\n",
        "acc = history.history['acc']\n",
        "val_acc = history.history['val_acc']\n",
        "loss = history.history['loss']\n",
        "val_loss = history.history['val_loss']\n",
        "\n",
        "epochs = range(1, len(acc) + 1)\n",
        "\n",
        "plt.plot(epochs, acc, 'bo', label='Training acc')\n",
        "plt.plot(epochs, val_acc, 'b', label='Validation acc')\n",
        "plt.title('Training and validation accuracy')\n",
        "plt.legend()\n",
        "\n",
        "plt.figure()\n",
        "\n",
        "plt.plot(epochs, loss, 'bo', label='Training loss')\n",
        "plt.plot(epochs, val_loss, 'b', label='Validation loss')\n",
        "plt.title('Training and validation loss')\n",
        "plt.legend()\n",
        "\n",
        "plt.show()"
      ],
      "execution_count": 0,
      "outputs": [
        {
          "output_type": "display_data",
          "data": {
            "image/png": "[encoded data removed]",
            "text/plain": [
              "<Figure size 432x288 with 1 Axes>"
            ]
          },
          "metadata": {
            "tags": []
          }
        },
        {
          "output_type": "display_data",
          "data": {
            "image/png": "[encoded data removed]",
            "text/plain": [
              "<Figure size 432x288 with 1 Axes>"
            ]
          },
          "metadata": {
            "tags": []
          }
        }
      ]
    }
  ]
}